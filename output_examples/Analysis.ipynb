{
 "cells": [
  {
   "cell_type": "code",
   "execution_count": null,
   "id": "882e484c",
   "metadata": {},
   "outputs": [
    {
     "ename": "",
     "evalue": "",
     "output_type": "error",
     "traceback": [
      "\u001b[1;31mRunning cells with 'Python 3.12.11' requires the ipykernel package.\n",
      "\u001b[1;31m<a href='command:jupyter.createPythonEnvAndSelectController'>Create a Python Environment</a> with the required packages."
     ]
    }
   ],
   "source": []
  },
  {
   "cell_type": "code",
   "execution_count": 7,
   "id": "9fe0d6ef",
   "metadata": {},
   "outputs": [
    {
     "name": "stdout",
     "output_type": "stream",
     "text": [
      "/bin/bash: line 1: conda: command not found\n",
      "Defaulting to user installation because normal site-packages is not writeable\n",
      "Requirement already satisfied: uproot in /user/bkuipers/.local/lib/python3.9/site-packages (5.6.5)\n",
      "Requirement already satisfied: cramjam>=2.5.0 in /user/bkuipers/.local/lib/python3.9/site-packages (from uproot) (2.11.0)\n",
      "Requirement already satisfied: packaging in /user/bkuipers/.local/lib/python3.9/site-packages (from uproot) (25.0)\n",
      "Requirement already satisfied: typing-extensions>=4.1.0 in /user/bkuipers/.local/lib/python3.9/site-packages (from uproot) (4.15.0)\n",
      "Requirement already satisfied: numpy in /usr/lib64/python3.9/site-packages (from uproot) (1.23.5)\n",
      "Requirement already satisfied: xxhash in /user/bkuipers/.local/lib/python3.9/site-packages (from uproot) (3.5.0)\n",
      "Requirement already satisfied: awkward>=2.4.6 in /user/bkuipers/.local/lib/python3.9/site-packages (from uproot) (2.8.8)\n",
      "Requirement already satisfied: fsspec!=2025.7.0 in /user/bkuipers/.local/lib/python3.9/site-packages (from uproot) (2025.9.0)\n",
      "Requirement already satisfied: awkward-cpp==49 in /user/bkuipers/.local/lib/python3.9/site-packages (from awkward>=2.4.6->uproot) (49)\n",
      "Requirement already satisfied: importlib-metadata>=4.13.0 in /user/bkuipers/.local/lib/python3.9/site-packages (from awkward>=2.4.6->uproot) (8.7.0)\n",
      "Requirement already satisfied: zipp>=3.20 in /user/bkuipers/.local/lib/python3.9/site-packages (from importlib-metadata>=4.13.0->awkward>=2.4.6->uproot) (3.23.0)\n"
     ]
    }
   ],
   "source": [
    "!conda install -c conda-forge root -y\n",
    "\n",
    "!pip install uproot"
   ]
  },
  {
   "cell_type": "code",
   "execution_count": 4,
   "id": "ac4fe7b3",
   "metadata": {},
   "outputs": [
    {
     "name": "stdout",
     "output_type": "stream",
     "text": [
      "['trackeff_vs_pT;1', 'trackeff_vs_eta;1', 'trackeff_vs_phi;1', 'trackeff_vs_z0;1', 'trackeff_vs_DeltaR;1', 'trackeff_vs_prodR;1', 'nRecoTracks_vs_pT;1', 'nTruthMatchedTracks_vs_pT;1', 'nFakeTracks_vs_pT;1', 'nRecoTracks_vs_eta;1', 'nTruthMatchedTracks_vs_eta;1', 'nFakeTracks_vs_eta;1', 'fakeRatio_vs_pT;1', 'fakeRatio_vs_eta;1', 'fakeRatio_vs_phi;1', 'duplicationRatio_vs_pT;1', 'duplicationRatio_vs_eta;1', 'duplicationRatio_vs_phi;1', 'nDuplicated_vs_pT;1', 'nDuplicated_vs_eta;1', 'nDuplicated_vs_phi;1', 'nStates_vs_eta;1', 'nMeasurements_vs_eta;1', 'nOutliers_vs_eta;1', 'nHoles_vs_eta;1', 'nSharedHits_vs_eta;1', 'nStates_vs_pT;1', 'nMeasurements_vs_pT;1', 'nOutliers_vs_pT;1', 'nHoles_vs_pT;1', 'nSharedHits_vs_pT;1', 'completeness_vs_pT;1', 'completeness_vs_eta;1', 'completeness_vs_phi;1', 'purity_vs_pT;1', 'purity_vs_eta;1', 'purity_vs_phi;1', 'eff_tracks;1', 'fakeratio_tracks;1', 'duplicateratio_tracks;1', 'eff_particles;1', 'fakeratio_particles;1', 'duplicateratio_particles;1']\n"
     ]
    },
    {
     "ename": "NotImplementedError",
     "evalue": "streamerless memberwise serialization of class AsVector(pair<double,double>)\n    in file performance_finding_ckf.root",
     "output_type": "error",
     "traceback": [
      "\u001b[0;31m---------------------------------------------------------------------------\u001b[0m",
      "\u001b[0;31mNotImplementedError\u001b[0m                       Traceback (most recent call last)",
      "Cell \u001b[0;32mIn[4], line 11\u001b[0m\n\u001b[1;32m      8\u001b[0m \u001b[38;5;28mprint\u001b[39m(file\u001b[38;5;241m.\u001b[39mkeys())  \u001b[38;5;66;03m# List available objects in the file\u001b[39;00m\n\u001b[1;32m     10\u001b[0m \u001b[38;5;66;03m# Access the histogram (adjust the key name if needed)\u001b[39;00m\n\u001b[0;32m---> 11\u001b[0m hist \u001b[38;5;241m=\u001b[39m \u001b[43mfile\u001b[49m\u001b[43m[\u001b[49m\u001b[38;5;124;43m\"\u001b[39;49m\u001b[38;5;124;43mtrackeff_vs_pT\u001b[39;49m\u001b[38;5;124;43m\"\u001b[39;49m\u001b[43m]\u001b[49m  \n\u001b[1;32m     13\u001b[0m \u001b[38;5;66;03m# Extract bin edges and contents\u001b[39;00m\n\u001b[1;32m     14\u001b[0m bin_edges \u001b[38;5;241m=\u001b[39m hist\u001b[38;5;241m.\u001b[39medges\n",
      "File \u001b[0;32m~/.local/lib/python3.9/site-packages/uproot/reading.py:2122\u001b[0m, in \u001b[0;36mReadOnlyDirectory.__getitem__\u001b[0;34m(self, where)\u001b[0m\n\u001b[1;32m   2119\u001b[0m     \u001b[38;5;28;01mreturn\u001b[39;00m step\n\u001b[1;32m   2121\u001b[0m \u001b[38;5;28;01melse\u001b[39;00m:\n\u001b[0;32m-> 2122\u001b[0m     \u001b[38;5;28;01mreturn\u001b[39;00m \u001b[38;5;28;43mself\u001b[39;49m\u001b[38;5;241;43m.\u001b[39;49m\u001b[43mkey\u001b[49m\u001b[43m(\u001b[49m\u001b[43mwhere\u001b[49m\u001b[43m)\u001b[49m\u001b[38;5;241;43m.\u001b[39;49m\u001b[43mget\u001b[49m\u001b[43m(\u001b[49m\u001b[43m)\u001b[49m\n",
      "File \u001b[0;32m~/.local/lib/python3.9/site-packages/uproot/reading.py:2519\u001b[0m, in \u001b[0;36mReadOnlyKey.get\u001b[0;34m(self)\u001b[0m\n\u001b[1;32m   2516\u001b[0m \u001b[38;5;28mcls\u001b[39m \u001b[38;5;241m=\u001b[39m \u001b[38;5;28mself\u001b[39m\u001b[38;5;241m.\u001b[39m_file\u001b[38;5;241m.\u001b[39mclass_named(\u001b[38;5;28mself\u001b[39m\u001b[38;5;241m.\u001b[39m_fClassName)\n\u001b[1;32m   2518\u001b[0m \u001b[38;5;28;01mtry\u001b[39;00m:\n\u001b[0;32m-> 2519\u001b[0m     out \u001b[38;5;241m=\u001b[39m \u001b[38;5;28;43mcls\u001b[39;49m\u001b[38;5;241;43m.\u001b[39;49m\u001b[43mread\u001b[49m\u001b[43m(\u001b[49m\u001b[43mchunk\u001b[49m\u001b[43m,\u001b[49m\u001b[43m \u001b[49m\u001b[43mcursor\u001b[49m\u001b[43m,\u001b[49m\u001b[43m \u001b[49m\u001b[43mcontext\u001b[49m\u001b[43m,\u001b[49m\u001b[43m \u001b[49m\u001b[38;5;28;43mself\u001b[39;49m\u001b[38;5;241;43m.\u001b[39;49m\u001b[43m_file\u001b[49m\u001b[43m,\u001b[49m\u001b[43m \u001b[49m\u001b[43mselffile\u001b[49m\u001b[43m,\u001b[49m\u001b[43m \u001b[49m\u001b[43mparent\u001b[49m\u001b[43m)\u001b[49m\n\u001b[1;32m   2521\u001b[0m \u001b[38;5;28;01mexcept\u001b[39;00m uproot\u001b[38;5;241m.\u001b[39mdeserialization\u001b[38;5;241m.\u001b[39mDeserializationError:\n\u001b[1;32m   2522\u001b[0m     breadcrumbs \u001b[38;5;241m=\u001b[39m context\u001b[38;5;241m.\u001b[39mget(\u001b[38;5;124m\"\u001b[39m\u001b[38;5;124mbreadcrumbs\u001b[39m\u001b[38;5;124m\"\u001b[39m)\n",
      "File \u001b[0;32m~/.local/lib/python3.9/site-packages/uproot/model.py:1362\u001b[0m, in \u001b[0;36mDispatchByVersion.read\u001b[0;34m(cls, chunk, cursor, context, file, selffile, parent, concrete)\u001b[0m\n\u001b[1;32m   1354\u001b[0m             \u001b[38;5;28;01mraise\u001b[39;00m \u001b[38;5;167;01mValueError\u001b[39;00m(\n\u001b[1;32m   1355\u001b[0m                 \u001b[38;5;124mf\u001b[39m\u001b[38;5;124m\"\"\"\u001b[39m\u001b[38;5;124mUnknown version \u001b[39m\u001b[38;5;132;01m{\u001b[39;00mversion\u001b[38;5;132;01m}\u001b[39;00m\u001b[38;5;124m for class \u001b[39m\u001b[38;5;132;01m{\u001b[39;00mclassname_decode(\u001b[38;5;28mcls\u001b[39m\u001b[38;5;241m.\u001b[39m\u001b[38;5;18m__name__\u001b[39m)[\u001b[38;5;241m0\u001b[39m]\u001b[38;5;132;01m}\u001b[39;00m\u001b[38;5;124m that cannot be skipped \u001b[39m\u001b[38;5;124m\"\"\"\u001b[39m\n\u001b[1;32m   1356\u001b[0m                 \u001b[38;5;124;03m\"\"\"because its number of bytes is unknown.\u001b[39;00m\n\u001b[1;32m   1357\u001b[0m \u001b[38;5;124;03m\"\"\"\u001b[39;00m\n\u001b[1;32m   1358\u001b[0m             )\n\u001b[1;32m   1360\u001b[0m         \u001b[38;5;66;03m# versioned_cls.read starts with numbytes_version again because move=False (above)\u001b[39;00m\n\u001b[1;32m   1361\u001b[0m         temp_var \u001b[38;5;241m=\u001b[39m \u001b[38;5;28mcls\u001b[39m\u001b[38;5;241m.\u001b[39mpostprocess(\n\u001b[0;32m-> 1362\u001b[0m             \u001b[43mversioned_cls\u001b[49m\u001b[38;5;241;43m.\u001b[39;49m\u001b[43mread\u001b[49m\u001b[43m(\u001b[49m\n\u001b[1;32m   1363\u001b[0m \u001b[43m                \u001b[49m\u001b[43mchunk\u001b[49m\u001b[43m,\u001b[49m\u001b[43m \u001b[49m\u001b[43mcursor\u001b[49m\u001b[43m,\u001b[49m\u001b[43m \u001b[49m\u001b[43mcontext\u001b[49m\u001b[43m,\u001b[49m\u001b[43m \u001b[49m\u001b[43mfile\u001b[49m\u001b[43m,\u001b[49m\u001b[43m \u001b[49m\u001b[43mselffile\u001b[49m\u001b[43m,\u001b[49m\u001b[43m \u001b[49m\u001b[43mparent\u001b[49m\u001b[43m,\u001b[49m\u001b[43m \u001b[49m\u001b[43mconcrete\u001b[49m\u001b[38;5;241;43m=\u001b[39;49m\u001b[43mconcrete\u001b[49m\n\u001b[1;32m   1364\u001b[0m \u001b[43m            \u001b[49m\u001b[43m)\u001b[49m,\n\u001b[1;32m   1365\u001b[0m             chunk,\n\u001b[1;32m   1366\u001b[0m             cursor,\n\u001b[1;32m   1367\u001b[0m             context,\n\u001b[1;32m   1368\u001b[0m             file,\n\u001b[1;32m   1369\u001b[0m         )\n\u001b[1;32m   1371\u001b[0m         \u001b[38;5;28;01mif\u001b[39;00m forth_obj \u001b[38;5;129;01mis\u001b[39;00m \u001b[38;5;129;01mnot\u001b[39;00m \u001b[38;5;28;01mNone\u001b[39;00m:\n\u001b[1;32m   1372\u001b[0m             forth_obj\u001b[38;5;241m.\u001b[39mpop_active_node()\n",
      "File \u001b[0;32m~/.local/lib/python3.9/site-packages/uproot/model.py:854\u001b[0m, in \u001b[0;36mModel.read\u001b[0;34m(cls, chunk, cursor, context, file, selffile, parent, concrete)\u001b[0m\n\u001b[1;32m    852\u001b[0m     forth_obj\u001b[38;5;241m.\u001b[39madd_node(forth_stash)\n\u001b[1;32m    853\u001b[0m     forth_obj\u001b[38;5;241m.\u001b[39mpush_active_node(forth_stash)\n\u001b[0;32m--> 854\u001b[0m \u001b[38;5;28;43mself\u001b[39;49m\u001b[38;5;241;43m.\u001b[39;49m\u001b[43mread_members\u001b[49m\u001b[43m(\u001b[49m\u001b[43mchunk\u001b[49m\u001b[43m,\u001b[49m\u001b[43m \u001b[49m\u001b[43mcursor\u001b[49m\u001b[43m,\u001b[49m\u001b[43m \u001b[49m\u001b[43mcontext\u001b[49m\u001b[43m,\u001b[49m\u001b[43m \u001b[49m\u001b[43mfile\u001b[49m\u001b[43m)\u001b[49m\n\u001b[1;32m    855\u001b[0m \u001b[38;5;28;01mif\u001b[39;00m forth_obj \u001b[38;5;129;01mis\u001b[39;00m \u001b[38;5;129;01mnot\u001b[39;00m \u001b[38;5;28;01mNone\u001b[39;00m:\n\u001b[1;32m    856\u001b[0m     forth_obj\u001b[38;5;241m.\u001b[39mpop_active_node()\n",
      "File \u001b[0;32m<dynamic>:61\u001b[0m, in \u001b[0;36mread_members\u001b[0;34m(self, chunk, cursor, context, file)\u001b[0m\n",
      "File \u001b[0;32m~/.local/lib/python3.9/site-packages/uproot/containers.py:961\u001b[0m, in \u001b[0;36mAsVectorLike.read\u001b[0;34m(self, chunk, cursor, context, file, selffile, parent, header)\u001b[0m\n\u001b[1;32m    955\u001b[0m             \u001b[38;5;28;01mraise\u001b[39;00m \u001b[38;5;167;01mNotImplementedError\u001b[39;00m(\n\u001b[1;32m    956\u001b[0m                 \u001b[38;5;124mf\u001b[39m\u001b[38;5;124m\"\"\"\u001b[39m\u001b[38;5;124mmemberwise serialization of \u001b[39m\u001b[38;5;132;01m{\u001b[39;00m\u001b[38;5;28mtype\u001b[39m(\u001b[38;5;28mself\u001b[39m)\u001b[38;5;241m.\u001b[39m\u001b[38;5;18m__name__\u001b[39m\u001b[38;5;132;01m}\u001b[39;00m\u001b[38;5;124m(\u001b[39m\u001b[38;5;132;01m{\u001b[39;00m_value_typename\u001b[38;5;132;01m}\u001b[39;00m\u001b[38;5;124m)\u001b[39m\n\u001b[1;32m    957\u001b[0m \u001b[38;5;124min file \u001b[39m\u001b[38;5;132;01m{\u001b[39;00mselffile\u001b[38;5;241m.\u001b[39mfile_path\u001b[38;5;132;01m}\u001b[39;00m\u001b[38;5;124m\"\"\"\u001b[39m\n\u001b[1;32m    958\u001b[0m             )\n\u001b[1;32m    960\u001b[0m         \u001b[38;5;28;01mif\u001b[39;00m \u001b[38;5;129;01mnot\u001b[39;00m \u001b[38;5;28missubclass\u001b[39m(\u001b[38;5;28mself\u001b[39m\u001b[38;5;241m.\u001b[39m_items, uproot\u001b[38;5;241m.\u001b[39mmodel\u001b[38;5;241m.\u001b[39mDispatchByVersion):\n\u001b[0;32m--> 961\u001b[0m             \u001b[38;5;28;01mraise\u001b[39;00m \u001b[38;5;167;01mNotImplementedError\u001b[39;00m(\n\u001b[1;32m    962\u001b[0m                 \u001b[38;5;124mf\u001b[39m\u001b[38;5;124m\"\"\"\u001b[39m\u001b[38;5;124mstreamerless memberwise serialization of class \u001b[39m\u001b[38;5;132;01m{\u001b[39;00m\u001b[38;5;28mtype\u001b[39m(\u001b[38;5;28mself\u001b[39m)\u001b[38;5;241m.\u001b[39m\u001b[38;5;18m__name__\u001b[39m\u001b[38;5;132;01m}\u001b[39;00m\u001b[38;5;124m(\u001b[39m\u001b[38;5;132;01m{\u001b[39;00m_value_typename\u001b[38;5;132;01m}\u001b[39;00m\u001b[38;5;124m)\u001b[39m\n\u001b[1;32m    963\u001b[0m \u001b[38;5;124min file \u001b[39m\u001b[38;5;132;01m{\u001b[39;00mselffile\u001b[38;5;241m.\u001b[39mfile_path\u001b[38;5;132;01m}\u001b[39;00m\u001b[38;5;124m\"\"\"\u001b[39m\n\u001b[1;32m    964\u001b[0m             )\n\u001b[1;32m    966\u001b[0m         \u001b[38;5;66;03m# uninterpreted header\u001b[39;00m\n\u001b[1;32m    967\u001b[0m         cursor\u001b[38;5;241m.\u001b[39mskip(\u001b[38;5;241m6\u001b[39m)\n",
      "\u001b[0;31mNotImplementedError\u001b[0m: streamerless memberwise serialization of class AsVector(pair<double,double>)\n    in file performance_finding_ckf.root"
     ]
    }
   ],
   "source": [
    "import uproot\n",
    "import matplotlib.pyplot as plt\n",
    "import numpy as np\n",
    "\n",
    "# Open the ROOT file\n",
    "file_path = \"performance_finding_ckf.root\"\n",
    "with uproot.open(file_path) as file:\n",
    "    print(file.keys())  # List available objects in the file\n",
    "\n",
    "    # Access the histogram (adjust the key name if needed)\n",
    "    hist = file[\"trackeff_vs_pT\"]  \n",
    "\n",
    "    # Extract bin edges and contents\n",
    "    bin_edges = hist.edges\n",
    "    values = hist.values()\n",
    "    errors = hist.errors()  # uproot can also provide Poisson errors\n",
    "\n",
    "# Compute bin centers for plotting\n",
    "bin_centers = 0.5 * (bin_edges[:-1] + bin_edges[1:])\n",
    "\n",
    "# Plot\n",
    "plt.figure(figsize=(8, 6))\n",
    "plt.errorbar(bin_centers, values, yerr=errors, fmt='o-', capsize=3)\n",
    "plt.xlabel(\"Transverse Momentum (pT) [GeV/c]\")\n",
    "plt.ylabel(\"Efficiency\")\n",
    "plt.title(\"Efficiency vs. Transverse Momentum\")\n",
    "plt.grid(True)\n",
    "plt.show()"
   ]
  },
  {
   "cell_type": "code",
   "execution_count": 5,
   "id": "b0e8152c",
   "metadata": {},
   "outputs": [
    {
     "name": "stdout",
     "output_type": "stream",
     "text": [
      "['trackeff_vs_pT;1', 'trackeff_vs_eta;1', 'trackeff_vs_phi;1', 'trackeff_vs_z0;1', 'trackeff_vs_DeltaR;1', 'trackeff_vs_prodR;1', 'nRecoTracks_vs_pT;1', 'nTruthMatchedTracks_vs_pT;1', 'nFakeTracks_vs_pT;1', 'nRecoTracks_vs_eta;1', 'nTruthMatchedTracks_vs_eta;1', 'nFakeTracks_vs_eta;1', 'fakeRatio_vs_pT;1', 'fakeRatio_vs_eta;1', 'fakeRatio_vs_phi;1', 'duplicationRatio_vs_pT;1', 'duplicationRatio_vs_eta;1', 'duplicationRatio_vs_phi;1', 'nDuplicated_vs_pT;1', 'nDuplicated_vs_eta;1', 'nDuplicated_vs_phi;1', 'nStates_vs_eta;1', 'nMeasurements_vs_eta;1', 'nOutliers_vs_eta;1', 'nHoles_vs_eta;1', 'nSharedHits_vs_eta;1', 'nStates_vs_pT;1', 'nMeasurements_vs_pT;1', 'nOutliers_vs_pT;1', 'nHoles_vs_pT;1', 'nSharedHits_vs_pT;1', 'completeness_vs_pT;1', 'completeness_vs_eta;1', 'completeness_vs_phi;1', 'purity_vs_pT;1', 'purity_vs_eta;1', 'purity_vs_phi;1', 'eff_tracks;1', 'fakeratio_tracks;1', 'duplicateratio_tracks;1', 'eff_particles;1', 'fakeratio_particles;1', 'duplicateratio_particles;1']\n"
     ]
    },
    {
     "ename": "NotImplementedError",
     "evalue": "streamerless memberwise serialization of class AsVector(pair<double,double>)\n    in file performance_finding_ckf.root",
     "output_type": "error",
     "traceback": [
      "\u001b[0;31m---------------------------------------------------------------------------\u001b[0m",
      "\u001b[0;31mNotImplementedError\u001b[0m                       Traceback (most recent call last)",
      "Cell \u001b[0;32mIn[5], line 11\u001b[0m\n\u001b[1;32m      8\u001b[0m \u001b[38;5;28mprint\u001b[39m(file\u001b[38;5;241m.\u001b[39mkeys())  \u001b[38;5;66;03m# List available objects in the file\u001b[39;00m\n\u001b[1;32m     10\u001b[0m \u001b[38;5;66;03m# Access the histogram (adjust the key name if needed)\u001b[39;00m\n\u001b[0;32m---> 11\u001b[0m hist \u001b[38;5;241m=\u001b[39m \u001b[43mfile\u001b[49m\u001b[43m[\u001b[49m\u001b[38;5;124;43m\"\u001b[39;49m\u001b[38;5;124;43mtrackeff_vs_pT\u001b[39;49m\u001b[38;5;124;43m\"\u001b[39;49m\u001b[43m]\u001b[49m  \n\u001b[1;32m     13\u001b[0m \u001b[38;5;66;03m# Extract bin edges and contents\u001b[39;00m\n\u001b[1;32m     14\u001b[0m bin_edges \u001b[38;5;241m=\u001b[39m hist\u001b[38;5;241m.\u001b[39medges\n",
      "File \u001b[0;32m~/.local/lib/python3.9/site-packages/uproot/reading.py:2122\u001b[0m, in \u001b[0;36mReadOnlyDirectory.__getitem__\u001b[0;34m(self, where)\u001b[0m\n\u001b[1;32m   2119\u001b[0m     \u001b[38;5;28;01mreturn\u001b[39;00m step\n\u001b[1;32m   2121\u001b[0m \u001b[38;5;28;01melse\u001b[39;00m:\n\u001b[0;32m-> 2122\u001b[0m     \u001b[38;5;28;01mreturn\u001b[39;00m \u001b[38;5;28;43mself\u001b[39;49m\u001b[38;5;241;43m.\u001b[39;49m\u001b[43mkey\u001b[49m\u001b[43m(\u001b[49m\u001b[43mwhere\u001b[49m\u001b[43m)\u001b[49m\u001b[38;5;241;43m.\u001b[39;49m\u001b[43mget\u001b[49m\u001b[43m(\u001b[49m\u001b[43m)\u001b[49m\n",
      "File \u001b[0;32m~/.local/lib/python3.9/site-packages/uproot/reading.py:2519\u001b[0m, in \u001b[0;36mReadOnlyKey.get\u001b[0;34m(self)\u001b[0m\n\u001b[1;32m   2516\u001b[0m \u001b[38;5;28mcls\u001b[39m \u001b[38;5;241m=\u001b[39m \u001b[38;5;28mself\u001b[39m\u001b[38;5;241m.\u001b[39m_file\u001b[38;5;241m.\u001b[39mclass_named(\u001b[38;5;28mself\u001b[39m\u001b[38;5;241m.\u001b[39m_fClassName)\n\u001b[1;32m   2518\u001b[0m \u001b[38;5;28;01mtry\u001b[39;00m:\n\u001b[0;32m-> 2519\u001b[0m     out \u001b[38;5;241m=\u001b[39m \u001b[38;5;28;43mcls\u001b[39;49m\u001b[38;5;241;43m.\u001b[39;49m\u001b[43mread\u001b[49m\u001b[43m(\u001b[49m\u001b[43mchunk\u001b[49m\u001b[43m,\u001b[49m\u001b[43m \u001b[49m\u001b[43mcursor\u001b[49m\u001b[43m,\u001b[49m\u001b[43m \u001b[49m\u001b[43mcontext\u001b[49m\u001b[43m,\u001b[49m\u001b[43m \u001b[49m\u001b[38;5;28;43mself\u001b[39;49m\u001b[38;5;241;43m.\u001b[39;49m\u001b[43m_file\u001b[49m\u001b[43m,\u001b[49m\u001b[43m \u001b[49m\u001b[43mselffile\u001b[49m\u001b[43m,\u001b[49m\u001b[43m \u001b[49m\u001b[43mparent\u001b[49m\u001b[43m)\u001b[49m\n\u001b[1;32m   2521\u001b[0m \u001b[38;5;28;01mexcept\u001b[39;00m uproot\u001b[38;5;241m.\u001b[39mdeserialization\u001b[38;5;241m.\u001b[39mDeserializationError:\n\u001b[1;32m   2522\u001b[0m     breadcrumbs \u001b[38;5;241m=\u001b[39m context\u001b[38;5;241m.\u001b[39mget(\u001b[38;5;124m\"\u001b[39m\u001b[38;5;124mbreadcrumbs\u001b[39m\u001b[38;5;124m\"\u001b[39m)\n",
      "File \u001b[0;32m~/.local/lib/python3.9/site-packages/uproot/model.py:1362\u001b[0m, in \u001b[0;36mDispatchByVersion.read\u001b[0;34m(cls, chunk, cursor, context, file, selffile, parent, concrete)\u001b[0m\n\u001b[1;32m   1354\u001b[0m             \u001b[38;5;28;01mraise\u001b[39;00m \u001b[38;5;167;01mValueError\u001b[39;00m(\n\u001b[1;32m   1355\u001b[0m                 \u001b[38;5;124mf\u001b[39m\u001b[38;5;124m\"\"\"\u001b[39m\u001b[38;5;124mUnknown version \u001b[39m\u001b[38;5;132;01m{\u001b[39;00mversion\u001b[38;5;132;01m}\u001b[39;00m\u001b[38;5;124m for class \u001b[39m\u001b[38;5;132;01m{\u001b[39;00mclassname_decode(\u001b[38;5;28mcls\u001b[39m\u001b[38;5;241m.\u001b[39m\u001b[38;5;18m__name__\u001b[39m)[\u001b[38;5;241m0\u001b[39m]\u001b[38;5;132;01m}\u001b[39;00m\u001b[38;5;124m that cannot be skipped \u001b[39m\u001b[38;5;124m\"\"\"\u001b[39m\n\u001b[1;32m   1356\u001b[0m                 \u001b[38;5;124;03m\"\"\"because its number of bytes is unknown.\u001b[39;00m\n\u001b[1;32m   1357\u001b[0m \u001b[38;5;124;03m\"\"\"\u001b[39;00m\n\u001b[1;32m   1358\u001b[0m             )\n\u001b[1;32m   1360\u001b[0m         \u001b[38;5;66;03m# versioned_cls.read starts with numbytes_version again because move=False (above)\u001b[39;00m\n\u001b[1;32m   1361\u001b[0m         temp_var \u001b[38;5;241m=\u001b[39m \u001b[38;5;28mcls\u001b[39m\u001b[38;5;241m.\u001b[39mpostprocess(\n\u001b[0;32m-> 1362\u001b[0m             \u001b[43mversioned_cls\u001b[49m\u001b[38;5;241;43m.\u001b[39;49m\u001b[43mread\u001b[49m\u001b[43m(\u001b[49m\n\u001b[1;32m   1363\u001b[0m \u001b[43m                \u001b[49m\u001b[43mchunk\u001b[49m\u001b[43m,\u001b[49m\u001b[43m \u001b[49m\u001b[43mcursor\u001b[49m\u001b[43m,\u001b[49m\u001b[43m \u001b[49m\u001b[43mcontext\u001b[49m\u001b[43m,\u001b[49m\u001b[43m \u001b[49m\u001b[43mfile\u001b[49m\u001b[43m,\u001b[49m\u001b[43m \u001b[49m\u001b[43mselffile\u001b[49m\u001b[43m,\u001b[49m\u001b[43m \u001b[49m\u001b[43mparent\u001b[49m\u001b[43m,\u001b[49m\u001b[43m \u001b[49m\u001b[43mconcrete\u001b[49m\u001b[38;5;241;43m=\u001b[39;49m\u001b[43mconcrete\u001b[49m\n\u001b[1;32m   1364\u001b[0m \u001b[43m            \u001b[49m\u001b[43m)\u001b[49m,\n\u001b[1;32m   1365\u001b[0m             chunk,\n\u001b[1;32m   1366\u001b[0m             cursor,\n\u001b[1;32m   1367\u001b[0m             context,\n\u001b[1;32m   1368\u001b[0m             file,\n\u001b[1;32m   1369\u001b[0m         )\n\u001b[1;32m   1371\u001b[0m         \u001b[38;5;28;01mif\u001b[39;00m forth_obj \u001b[38;5;129;01mis\u001b[39;00m \u001b[38;5;129;01mnot\u001b[39;00m \u001b[38;5;28;01mNone\u001b[39;00m:\n\u001b[1;32m   1372\u001b[0m             forth_obj\u001b[38;5;241m.\u001b[39mpop_active_node()\n",
      "File \u001b[0;32m~/.local/lib/python3.9/site-packages/uproot/model.py:854\u001b[0m, in \u001b[0;36mModel.read\u001b[0;34m(cls, chunk, cursor, context, file, selffile, parent, concrete)\u001b[0m\n\u001b[1;32m    852\u001b[0m     forth_obj\u001b[38;5;241m.\u001b[39madd_node(forth_stash)\n\u001b[1;32m    853\u001b[0m     forth_obj\u001b[38;5;241m.\u001b[39mpush_active_node(forth_stash)\n\u001b[0;32m--> 854\u001b[0m \u001b[38;5;28;43mself\u001b[39;49m\u001b[38;5;241;43m.\u001b[39;49m\u001b[43mread_members\u001b[49m\u001b[43m(\u001b[49m\u001b[43mchunk\u001b[49m\u001b[43m,\u001b[49m\u001b[43m \u001b[49m\u001b[43mcursor\u001b[49m\u001b[43m,\u001b[49m\u001b[43m \u001b[49m\u001b[43mcontext\u001b[49m\u001b[43m,\u001b[49m\u001b[43m \u001b[49m\u001b[43mfile\u001b[49m\u001b[43m)\u001b[49m\n\u001b[1;32m    855\u001b[0m \u001b[38;5;28;01mif\u001b[39;00m forth_obj \u001b[38;5;129;01mis\u001b[39;00m \u001b[38;5;129;01mnot\u001b[39;00m \u001b[38;5;28;01mNone\u001b[39;00m:\n\u001b[1;32m    856\u001b[0m     forth_obj\u001b[38;5;241m.\u001b[39mpop_active_node()\n",
      "File \u001b[0;32m<dynamic>:61\u001b[0m, in \u001b[0;36mread_members\u001b[0;34m(self, chunk, cursor, context, file)\u001b[0m\n",
      "File \u001b[0;32m~/.local/lib/python3.9/site-packages/uproot/containers.py:961\u001b[0m, in \u001b[0;36mAsVectorLike.read\u001b[0;34m(self, chunk, cursor, context, file, selffile, parent, header)\u001b[0m\n\u001b[1;32m    955\u001b[0m             \u001b[38;5;28;01mraise\u001b[39;00m \u001b[38;5;167;01mNotImplementedError\u001b[39;00m(\n\u001b[1;32m    956\u001b[0m                 \u001b[38;5;124mf\u001b[39m\u001b[38;5;124m\"\"\"\u001b[39m\u001b[38;5;124mmemberwise serialization of \u001b[39m\u001b[38;5;132;01m{\u001b[39;00m\u001b[38;5;28mtype\u001b[39m(\u001b[38;5;28mself\u001b[39m)\u001b[38;5;241m.\u001b[39m\u001b[38;5;18m__name__\u001b[39m\u001b[38;5;132;01m}\u001b[39;00m\u001b[38;5;124m(\u001b[39m\u001b[38;5;132;01m{\u001b[39;00m_value_typename\u001b[38;5;132;01m}\u001b[39;00m\u001b[38;5;124m)\u001b[39m\n\u001b[1;32m    957\u001b[0m \u001b[38;5;124min file \u001b[39m\u001b[38;5;132;01m{\u001b[39;00mselffile\u001b[38;5;241m.\u001b[39mfile_path\u001b[38;5;132;01m}\u001b[39;00m\u001b[38;5;124m\"\"\"\u001b[39m\n\u001b[1;32m    958\u001b[0m             )\n\u001b[1;32m    960\u001b[0m         \u001b[38;5;28;01mif\u001b[39;00m \u001b[38;5;129;01mnot\u001b[39;00m \u001b[38;5;28missubclass\u001b[39m(\u001b[38;5;28mself\u001b[39m\u001b[38;5;241m.\u001b[39m_items, uproot\u001b[38;5;241m.\u001b[39mmodel\u001b[38;5;241m.\u001b[39mDispatchByVersion):\n\u001b[0;32m--> 961\u001b[0m             \u001b[38;5;28;01mraise\u001b[39;00m \u001b[38;5;167;01mNotImplementedError\u001b[39;00m(\n\u001b[1;32m    962\u001b[0m                 \u001b[38;5;124mf\u001b[39m\u001b[38;5;124m\"\"\"\u001b[39m\u001b[38;5;124mstreamerless memberwise serialization of class \u001b[39m\u001b[38;5;132;01m{\u001b[39;00m\u001b[38;5;28mtype\u001b[39m(\u001b[38;5;28mself\u001b[39m)\u001b[38;5;241m.\u001b[39m\u001b[38;5;18m__name__\u001b[39m\u001b[38;5;132;01m}\u001b[39;00m\u001b[38;5;124m(\u001b[39m\u001b[38;5;132;01m{\u001b[39;00m_value_typename\u001b[38;5;132;01m}\u001b[39;00m\u001b[38;5;124m)\u001b[39m\n\u001b[1;32m    963\u001b[0m \u001b[38;5;124min file \u001b[39m\u001b[38;5;132;01m{\u001b[39;00mselffile\u001b[38;5;241m.\u001b[39mfile_path\u001b[38;5;132;01m}\u001b[39;00m\u001b[38;5;124m\"\"\"\u001b[39m\n\u001b[1;32m    964\u001b[0m             )\n\u001b[1;32m    966\u001b[0m         \u001b[38;5;66;03m# uninterpreted header\u001b[39;00m\n\u001b[1;32m    967\u001b[0m         cursor\u001b[38;5;241m.\u001b[39mskip(\u001b[38;5;241m6\u001b[39m)\n",
      "\u001b[0;31mNotImplementedError\u001b[0m: streamerless memberwise serialization of class AsVector(pair<double,double>)\n    in file performance_finding_ckf.root"
     ]
    }
   ],
   "source": [
    "import uproot\n",
    "import matplotlib.pyplot as plt\n",
    "import numpy as np\n",
    "\n",
    "# Open the ROOT file\n",
    "file_path = \"performance_finding_ckf.root\"\n",
    "with uproot.open(file_path) as file:\n",
    "    print(file.keys())  # List available objects in the file\n",
    "\n",
    "    # Access the histogram (adjust the key name if needed)\n",
    "    hist = file[\"trackeff_vs_pT\"]  \n",
    "\n",
    "    # Extract bin edges and contents\n",
    "    bin_edges = hist.edges\n",
    "    values = hist.values()\n",
    "    errors = hist.errors()  # uproot can also provide Poisson errors\n",
    "\n",
    "# Compute bin centers for plotting\n",
    "bin_centers = 0.5 * (bin_edges[:-1] + bin_edges[1:])\n",
    "\n",
    "# Plot\n",
    "plt.figure(figsize=(8, 6))\n",
    "plt.errorbar(bin_centers, values, yerr=errors, fmt='o-', capsize=3)\n",
    "plt.xlabel(\"Transverse Momentum (pT) [GeV/c]\")\n",
    "plt.ylabel(\"Efficiency\")\n",
    "plt.title(\"Efficiency vs. Transverse Momentum\")\n",
    "plt.grid(True)\n",
    "plt.show()"
   ]
  },
  {
   "cell_type": "code",
   "execution_count": 5,
   "id": "d055c839",
   "metadata": {},
   "outputs": [
    {
     "ename": "FileNotFoundError",
     "evalue": "[Errno 2] No such file or directory: '/data/alice/bkuipers/acts/output_examples/particles_generated.root'",
     "output_type": "error",
     "traceback": [
      "\u001b[0;31m---------------------------------------------------------------------------\u001b[0m",
      "\u001b[0;31mFileNotFoundError\u001b[0m                         Traceback (most recent call last)",
      "Cell \u001b[0;32mIn[5], line 10\u001b[0m\n\u001b[1;32m      7\u001b[0m reconstructed_tracks_file \u001b[38;5;241m=\u001b[39m \u001b[38;5;124m\"\u001b[39m\u001b[38;5;124mreconstructed_tracks.root\u001b[39m\u001b[38;5;124m\"\u001b[39m\n\u001b[1;32m      9\u001b[0m \u001b[38;5;66;03m# Open ROOT files\u001b[39;00m\n\u001b[0;32m---> 10\u001b[0m \u001b[38;5;28;01mwith\u001b[39;00m \u001b[43muproot\u001b[49m\u001b[38;5;241;43m.\u001b[39;49m\u001b[43mopen\u001b[49m\u001b[43m(\u001b[49m\u001b[43mtrue_particles_file\u001b[49m\u001b[43m)\u001b[49m \u001b[38;5;28;01mas\u001b[39;00m file:\n\u001b[1;32m     11\u001b[0m     true_particles \u001b[38;5;241m=\u001b[39m file[\u001b[38;5;124m\"\u001b[39m\u001b[38;5;124mtree_name\u001b[39m\u001b[38;5;124m\"\u001b[39m]\u001b[38;5;241m.\u001b[39marrays([\u001b[38;5;124m\"\u001b[39m\u001b[38;5;124menergy\u001b[39m\u001b[38;5;124m\"\u001b[39m], library\u001b[38;5;241m=\u001b[39m\u001b[38;5;124m\"\u001b[39m\u001b[38;5;124mnp\u001b[39m\u001b[38;5;124m\"\u001b[39m)  \u001b[38;5;66;03m# Replace \"tree_name\" with the actual tree name\u001b[39;00m\n\u001b[1;32m     13\u001b[0m \u001b[38;5;28;01mwith\u001b[39;00m uproot\u001b[38;5;241m.\u001b[39mopen(reconstructed_tracks_file) \u001b[38;5;28;01mas\u001b[39;00m file:\n",
      "File \u001b[0;32m~/.local/lib/python3.9/site-packages/uproot/reading.py:142\u001b[0m, in \u001b[0;36mopen\u001b[0;34m(path, object_cache, array_cache, custom_classes, decompression_executor, interpretation_executor, **options)\u001b[0m\n\u001b[1;32m    133\u001b[0m \u001b[38;5;28;01mif\u001b[39;00m \u001b[38;5;129;01mnot\u001b[39;00m \u001b[38;5;28misinstance\u001b[39m(file_path, \u001b[38;5;28mstr\u001b[39m) \u001b[38;5;129;01mand\u001b[39;00m \u001b[38;5;129;01mnot\u001b[39;00m (\n\u001b[1;32m    134\u001b[0m     \u001b[38;5;28mhasattr\u001b[39m(file_path, \u001b[38;5;124m\"\u001b[39m\u001b[38;5;124mread\u001b[39m\u001b[38;5;124m\"\u001b[39m) \u001b[38;5;129;01mand\u001b[39;00m \u001b[38;5;28mhasattr\u001b[39m(file_path, \u001b[38;5;124m\"\u001b[39m\u001b[38;5;124mseek\u001b[39m\u001b[38;5;124m\"\u001b[39m)\n\u001b[1;32m    135\u001b[0m ):\n\u001b[1;32m    136\u001b[0m     \u001b[38;5;28;01mraise\u001b[39;00m \u001b[38;5;167;01mValueError\u001b[39;00m(\n\u001b[1;32m    137\u001b[0m         \u001b[38;5;124m\"\u001b[39m\u001b[38;5;124m'\u001b[39m\u001b[38;5;124mpath\u001b[39m\u001b[38;5;124m'\u001b[39m\u001b[38;5;124m must be a string, pathlib.Path, an object with \u001b[39m\u001b[38;5;124m'\u001b[39m\u001b[38;5;124mread\u001b[39m\u001b[38;5;124m'\u001b[39m\u001b[38;5;124m and \u001b[39m\u001b[38;5;124m\"\u001b[39m\n\u001b[1;32m    138\u001b[0m         \u001b[38;5;124m\"\u001b[39m\u001b[38;5;124m'\u001b[39m\u001b[38;5;124mseek\u001b[39m\u001b[38;5;124m'\u001b[39m\u001b[38;5;124m methods, or a length-1 dict of \u001b[39m\u001b[38;5;124m{\u001b[39m\u001b[38;5;124mfile_path: object_path}, \u001b[39m\u001b[38;5;124m\"\u001b[39m\n\u001b[1;32m    139\u001b[0m         \u001b[38;5;124mf\u001b[39m\u001b[38;5;124m\"\u001b[39m\u001b[38;5;124mnot \u001b[39m\u001b[38;5;132;01m{\u001b[39;00mpath\u001b[38;5;132;01m!r}\u001b[39;00m\u001b[38;5;124m\"\u001b[39m\n\u001b[1;32m    140\u001b[0m     )\n\u001b[0;32m--> 142\u001b[0m file \u001b[38;5;241m=\u001b[39m \u001b[43mReadOnlyFile\u001b[49m\u001b[43m(\u001b[49m\n\u001b[1;32m    143\u001b[0m \u001b[43m    \u001b[49m\u001b[43mfile_path\u001b[49m\u001b[43m,\u001b[49m\n\u001b[1;32m    144\u001b[0m \u001b[43m    \u001b[49m\u001b[43mobject_cache\u001b[49m\u001b[38;5;241;43m=\u001b[39;49m\u001b[43mobject_cache\u001b[49m\u001b[43m,\u001b[49m\n\u001b[1;32m    145\u001b[0m \u001b[43m    \u001b[49m\u001b[43marray_cache\u001b[49m\u001b[38;5;241;43m=\u001b[39;49m\u001b[43marray_cache\u001b[49m\u001b[43m,\u001b[49m\n\u001b[1;32m    146\u001b[0m \u001b[43m    \u001b[49m\u001b[43mcustom_classes\u001b[49m\u001b[38;5;241;43m=\u001b[39;49m\u001b[43mcustom_classes\u001b[49m\u001b[43m,\u001b[49m\n\u001b[1;32m    147\u001b[0m \u001b[43m    \u001b[49m\u001b[43mdecompression_executor\u001b[49m\u001b[38;5;241;43m=\u001b[39;49m\u001b[43mdecompression_executor\u001b[49m\u001b[43m,\u001b[49m\n\u001b[1;32m    148\u001b[0m \u001b[43m    \u001b[49m\u001b[43minterpretation_executor\u001b[49m\u001b[38;5;241;43m=\u001b[39;49m\u001b[43minterpretation_executor\u001b[49m\u001b[43m,\u001b[49m\n\u001b[1;32m    149\u001b[0m \u001b[43m    \u001b[49m\u001b[38;5;241;43m*\u001b[39;49m\u001b[38;5;241;43m*\u001b[39;49m\u001b[43moptions\u001b[49m\u001b[43m,\u001b[49m\n\u001b[1;32m    150\u001b[0m \u001b[43m\u001b[49m\u001b[43m)\u001b[49m\n\u001b[1;32m    152\u001b[0m \u001b[38;5;28;01mif\u001b[39;00m object_path \u001b[38;5;129;01mis\u001b[39;00m \u001b[38;5;28;01mNone\u001b[39;00m:\n\u001b[1;32m    153\u001b[0m     \u001b[38;5;28;01mreturn\u001b[39;00m file\u001b[38;5;241m.\u001b[39mroot_directory\n",
      "File \u001b[0;32m~/.local/lib/python3.9/site-packages/uproot/reading.py:573\u001b[0m, in \u001b[0;36mReadOnlyFile.__init__\u001b[0;34m(self, file_path, object_cache, array_cache, custom_classes, decompression_executor, interpretation_executor, **options)\u001b[0m\n\u001b[1;32m    565\u001b[0m \u001b[38;5;28;01mif\u001b[39;00m \u001b[38;5;28mself\u001b[39m\u001b[38;5;241m.\u001b[39m_options[\u001b[38;5;124m\"\u001b[39m\u001b[38;5;124mbegin_chunk_size\u001b[39m\u001b[38;5;124m\"\u001b[39m] \u001b[38;5;241m<\u001b[39m _file_header_fields_big\u001b[38;5;241m.\u001b[39msize:\n\u001b[1;32m    566\u001b[0m     \u001b[38;5;28;01mraise\u001b[39;00m \u001b[38;5;167;01mValueError\u001b[39;00m(\n\u001b[1;32m    567\u001b[0m         \u001b[38;5;124m\"\u001b[39m\u001b[38;5;124mbegin_chunk_size=\u001b[39m\u001b[38;5;132;01m{}\u001b[39;00m\u001b[38;5;124m is not enough to read the TFile header (\u001b[39m\u001b[38;5;132;01m{}\u001b[39;00m\u001b[38;5;124m)\u001b[39m\u001b[38;5;124m\"\u001b[39m\u001b[38;5;241m.\u001b[39mformat(\n\u001b[1;32m    568\u001b[0m             \u001b[38;5;28mself\u001b[39m\u001b[38;5;241m.\u001b[39m_options[\u001b[38;5;124m\"\u001b[39m\u001b[38;5;124mbegin_chunk_size\u001b[39m\u001b[38;5;124m\"\u001b[39m],\n\u001b[1;32m    569\u001b[0m             _file_header_fields_big\u001b[38;5;241m.\u001b[39msize,\n\u001b[1;32m    570\u001b[0m         )\n\u001b[1;32m    571\u001b[0m     )\n\u001b[0;32m--> 573\u001b[0m \u001b[38;5;28mself\u001b[39m\u001b[38;5;241m.\u001b[39m_begin_chunk \u001b[38;5;241m=\u001b[39m \u001b[38;5;28;43mself\u001b[39;49m\u001b[38;5;241;43m.\u001b[39;49m\u001b[43m_source\u001b[49m\u001b[38;5;241;43m.\u001b[39;49m\u001b[43mchunk\u001b[49m\u001b[43m(\u001b[49m\n\u001b[1;32m    574\u001b[0m \u001b[43m    \u001b[49m\u001b[38;5;241;43m0\u001b[39;49m\u001b[43m,\u001b[49m\u001b[43m \u001b[49m\u001b[38;5;28;43mself\u001b[39;49m\u001b[38;5;241;43m.\u001b[39;49m\u001b[43m_options\u001b[49m\u001b[43m[\u001b[49m\u001b[38;5;124;43m\"\u001b[39;49m\u001b[38;5;124;43mbegin_chunk_size\u001b[39;49m\u001b[38;5;124;43m\"\u001b[39;49m\u001b[43m]\u001b[49m\n\u001b[1;32m    575\u001b[0m \u001b[43m\u001b[49m\u001b[43m)\u001b[49m\u001b[38;5;241m.\u001b[39mdetach_memmap()\n\u001b[1;32m    577\u001b[0m \u001b[38;5;28mself\u001b[39m\u001b[38;5;241m.\u001b[39mhook_before_interpret()\n\u001b[1;32m    579\u001b[0m (\n\u001b[1;32m    580\u001b[0m     magic,\n\u001b[1;32m    581\u001b[0m     \u001b[38;5;28mself\u001b[39m\u001b[38;5;241m.\u001b[39m_fVersion,\n\u001b[0;32m   (...)\u001b[0m\n\u001b[1;32m    595\u001b[0m     \u001b[38;5;28mself\u001b[39m\u001b[38;5;241m.\u001b[39m_begin_chunk, _file_header_fields_small, {}\n\u001b[1;32m    596\u001b[0m )\n",
      "File \u001b[0;32m~/.local/lib/python3.9/site-packages/uproot/source/fsspec.py:95\u001b[0m, in \u001b[0;36mFSSpecSource.chunk\u001b[0;34m(self, start, stop)\u001b[0m\n\u001b[1;32m     93\u001b[0m \u001b[38;5;28mself\u001b[39m\u001b[38;5;241m.\u001b[39m_num_requested_chunks \u001b[38;5;241m+\u001b[39m\u001b[38;5;241m=\u001b[39m \u001b[38;5;241m1\u001b[39m\n\u001b[1;32m     94\u001b[0m \u001b[38;5;28mself\u001b[39m\u001b[38;5;241m.\u001b[39m_num_requested_bytes \u001b[38;5;241m+\u001b[39m\u001b[38;5;241m=\u001b[39m stop \u001b[38;5;241m-\u001b[39m start\n\u001b[0;32m---> 95\u001b[0m data \u001b[38;5;241m=\u001b[39m \u001b[38;5;28;43mself\u001b[39;49m\u001b[38;5;241;43m.\u001b[39;49m\u001b[43m_fs\u001b[49m\u001b[38;5;241;43m.\u001b[39;49m\u001b[43mcat_file\u001b[49m\u001b[43m(\u001b[49m\u001b[38;5;28;43mself\u001b[39;49m\u001b[38;5;241;43m.\u001b[39;49m\u001b[43m_file_path\u001b[49m\u001b[43m,\u001b[49m\u001b[43m \u001b[49m\u001b[43mstart\u001b[49m\u001b[38;5;241;43m=\u001b[39;49m\u001b[43mstart\u001b[49m\u001b[43m,\u001b[49m\u001b[43m \u001b[49m\u001b[43mend\u001b[49m\u001b[38;5;241;43m=\u001b[39;49m\u001b[43mstop\u001b[49m\u001b[43m)\u001b[49m\n\u001b[1;32m     96\u001b[0m future \u001b[38;5;241m=\u001b[39m uproot\u001b[38;5;241m.\u001b[39msource\u001b[38;5;241m.\u001b[39mfutures\u001b[38;5;241m.\u001b[39mTrivialFuture(data)\n\u001b[1;32m     97\u001b[0m \u001b[38;5;28;01mreturn\u001b[39;00m uproot\u001b[38;5;241m.\u001b[39msource\u001b[38;5;241m.\u001b[39mchunk\u001b[38;5;241m.\u001b[39mChunk(\u001b[38;5;28mself\u001b[39m, start, stop, future)\n",
      "File \u001b[0;32m~/.local/lib/python3.9/site-packages/fsspec/spec.py:797\u001b[0m, in \u001b[0;36mAbstractFileSystem.cat_file\u001b[0;34m(self, path, start, end, **kwargs)\u001b[0m\n\u001b[1;32m    785\u001b[0m \u001b[38;5;124;03m\"\"\"Get the content of a file\u001b[39;00m\n\u001b[1;32m    786\u001b[0m \n\u001b[1;32m    787\u001b[0m \u001b[38;5;124;03mParameters\u001b[39;00m\n\u001b[0;32m   (...)\u001b[0m\n\u001b[1;32m    794\u001b[0m \u001b[38;5;124;03mkwargs: passed to ``open()``.\u001b[39;00m\n\u001b[1;32m    795\u001b[0m \u001b[38;5;124;03m\"\"\"\u001b[39;00m\n\u001b[1;32m    796\u001b[0m \u001b[38;5;66;03m# explicitly set buffering off?\u001b[39;00m\n\u001b[0;32m--> 797\u001b[0m \u001b[38;5;28;01mwith\u001b[39;00m \u001b[38;5;28;43mself\u001b[39;49m\u001b[38;5;241;43m.\u001b[39;49m\u001b[43mopen\u001b[49m\u001b[43m(\u001b[49m\u001b[43mpath\u001b[49m\u001b[43m,\u001b[49m\u001b[43m \u001b[49m\u001b[38;5;124;43m\"\u001b[39;49m\u001b[38;5;124;43mrb\u001b[39;49m\u001b[38;5;124;43m\"\u001b[39;49m\u001b[43m,\u001b[49m\u001b[43m \u001b[49m\u001b[38;5;241;43m*\u001b[39;49m\u001b[38;5;241;43m*\u001b[39;49m\u001b[43mkwargs\u001b[49m\u001b[43m)\u001b[49m \u001b[38;5;28;01mas\u001b[39;00m f:\n\u001b[1;32m    798\u001b[0m     \u001b[38;5;28;01mif\u001b[39;00m start \u001b[38;5;129;01mis\u001b[39;00m \u001b[38;5;129;01mnot\u001b[39;00m \u001b[38;5;28;01mNone\u001b[39;00m:\n\u001b[1;32m    799\u001b[0m         \u001b[38;5;28;01mif\u001b[39;00m start \u001b[38;5;241m>\u001b[39m\u001b[38;5;241m=\u001b[39m \u001b[38;5;241m0\u001b[39m:\n",
      "File \u001b[0;32m~/.local/lib/python3.9/site-packages/fsspec/spec.py:1338\u001b[0m, in \u001b[0;36mAbstractFileSystem.open\u001b[0;34m(self, path, mode, block_size, cache_options, compression, **kwargs)\u001b[0m\n\u001b[1;32m   1336\u001b[0m \u001b[38;5;28;01melse\u001b[39;00m:\n\u001b[1;32m   1337\u001b[0m     ac \u001b[38;5;241m=\u001b[39m kwargs\u001b[38;5;241m.\u001b[39mpop(\u001b[38;5;124m\"\u001b[39m\u001b[38;5;124mautocommit\u001b[39m\u001b[38;5;124m\"\u001b[39m, \u001b[38;5;129;01mnot\u001b[39;00m \u001b[38;5;28mself\u001b[39m\u001b[38;5;241m.\u001b[39m_intrans)\n\u001b[0;32m-> 1338\u001b[0m     f \u001b[38;5;241m=\u001b[39m \u001b[38;5;28;43mself\u001b[39;49m\u001b[38;5;241;43m.\u001b[39;49m\u001b[43m_open\u001b[49m\u001b[43m(\u001b[49m\n\u001b[1;32m   1339\u001b[0m \u001b[43m        \u001b[49m\u001b[43mpath\u001b[49m\u001b[43m,\u001b[49m\n\u001b[1;32m   1340\u001b[0m \u001b[43m        \u001b[49m\u001b[43mmode\u001b[49m\u001b[38;5;241;43m=\u001b[39;49m\u001b[43mmode\u001b[49m\u001b[43m,\u001b[49m\n\u001b[1;32m   1341\u001b[0m \u001b[43m        \u001b[49m\u001b[43mblock_size\u001b[49m\u001b[38;5;241;43m=\u001b[39;49m\u001b[43mblock_size\u001b[49m\u001b[43m,\u001b[49m\n\u001b[1;32m   1342\u001b[0m \u001b[43m        \u001b[49m\u001b[43mautocommit\u001b[49m\u001b[38;5;241;43m=\u001b[39;49m\u001b[43mac\u001b[49m\u001b[43m,\u001b[49m\n\u001b[1;32m   1343\u001b[0m \u001b[43m        \u001b[49m\u001b[43mcache_options\u001b[49m\u001b[38;5;241;43m=\u001b[39;49m\u001b[43mcache_options\u001b[49m\u001b[43m,\u001b[49m\n\u001b[1;32m   1344\u001b[0m \u001b[43m        \u001b[49m\u001b[38;5;241;43m*\u001b[39;49m\u001b[38;5;241;43m*\u001b[39;49m\u001b[43mkwargs\u001b[49m\u001b[43m,\u001b[49m\n\u001b[1;32m   1345\u001b[0m \u001b[43m    \u001b[49m\u001b[43m)\u001b[49m\n\u001b[1;32m   1346\u001b[0m     \u001b[38;5;28;01mif\u001b[39;00m compression \u001b[38;5;129;01mis\u001b[39;00m \u001b[38;5;129;01mnot\u001b[39;00m \u001b[38;5;28;01mNone\u001b[39;00m:\n\u001b[1;32m   1347\u001b[0m         \u001b[38;5;28;01mfrom\u001b[39;00m \u001b[38;5;21;01mfsspec\u001b[39;00m\u001b[38;5;21;01m.\u001b[39;00m\u001b[38;5;21;01mcompression\u001b[39;00m \u001b[38;5;28;01mimport\u001b[39;00m compr\n",
      "File \u001b[0;32m~/.local/lib/python3.9/site-packages/fsspec/implementations/local.py:210\u001b[0m, in \u001b[0;36mLocalFileSystem._open\u001b[0;34m(self, path, mode, block_size, **kwargs)\u001b[0m\n\u001b[1;32m    208\u001b[0m \u001b[38;5;28;01mif\u001b[39;00m \u001b[38;5;28mself\u001b[39m\u001b[38;5;241m.\u001b[39mauto_mkdir \u001b[38;5;129;01mand\u001b[39;00m \u001b[38;5;124m\"\u001b[39m\u001b[38;5;124mw\u001b[39m\u001b[38;5;124m\"\u001b[39m \u001b[38;5;129;01min\u001b[39;00m mode:\n\u001b[1;32m    209\u001b[0m     \u001b[38;5;28mself\u001b[39m\u001b[38;5;241m.\u001b[39mmakedirs(\u001b[38;5;28mself\u001b[39m\u001b[38;5;241m.\u001b[39m_parent(path), exist_ok\u001b[38;5;241m=\u001b[39m\u001b[38;5;28;01mTrue\u001b[39;00m)\n\u001b[0;32m--> 210\u001b[0m \u001b[38;5;28;01mreturn\u001b[39;00m \u001b[43mLocalFileOpener\u001b[49m\u001b[43m(\u001b[49m\u001b[43mpath\u001b[49m\u001b[43m,\u001b[49m\u001b[43m \u001b[49m\u001b[43mmode\u001b[49m\u001b[43m,\u001b[49m\u001b[43m \u001b[49m\u001b[43mfs\u001b[49m\u001b[38;5;241;43m=\u001b[39;49m\u001b[38;5;28;43mself\u001b[39;49m\u001b[43m,\u001b[49m\u001b[43m \u001b[49m\u001b[38;5;241;43m*\u001b[39;49m\u001b[38;5;241;43m*\u001b[39;49m\u001b[43mkwargs\u001b[49m\u001b[43m)\u001b[49m\n",
      "File \u001b[0;32m~/.local/lib/python3.9/site-packages/fsspec/implementations/local.py:387\u001b[0m, in \u001b[0;36mLocalFileOpener.__init__\u001b[0;34m(self, path, mode, autocommit, fs, compression, **kwargs)\u001b[0m\n\u001b[1;32m    385\u001b[0m \u001b[38;5;28mself\u001b[39m\u001b[38;5;241m.\u001b[39mcompression \u001b[38;5;241m=\u001b[39m get_compression(path, compression)\n\u001b[1;32m    386\u001b[0m \u001b[38;5;28mself\u001b[39m\u001b[38;5;241m.\u001b[39mblocksize \u001b[38;5;241m=\u001b[39m io\u001b[38;5;241m.\u001b[39mDEFAULT_BUFFER_SIZE\n\u001b[0;32m--> 387\u001b[0m \u001b[38;5;28;43mself\u001b[39;49m\u001b[38;5;241;43m.\u001b[39;49m\u001b[43m_open\u001b[49m\u001b[43m(\u001b[49m\u001b[43m)\u001b[49m\n",
      "File \u001b[0;32m~/.local/lib/python3.9/site-packages/fsspec/implementations/local.py:392\u001b[0m, in \u001b[0;36mLocalFileOpener._open\u001b[0;34m(self)\u001b[0m\n\u001b[1;32m    390\u001b[0m \u001b[38;5;28;01mif\u001b[39;00m \u001b[38;5;28mself\u001b[39m\u001b[38;5;241m.\u001b[39mf \u001b[38;5;129;01mis\u001b[39;00m \u001b[38;5;28;01mNone\u001b[39;00m \u001b[38;5;129;01mor\u001b[39;00m \u001b[38;5;28mself\u001b[39m\u001b[38;5;241m.\u001b[39mf\u001b[38;5;241m.\u001b[39mclosed:\n\u001b[1;32m    391\u001b[0m     \u001b[38;5;28;01mif\u001b[39;00m \u001b[38;5;28mself\u001b[39m\u001b[38;5;241m.\u001b[39mautocommit \u001b[38;5;129;01mor\u001b[39;00m \u001b[38;5;124m\"\u001b[39m\u001b[38;5;124mw\u001b[39m\u001b[38;5;124m\"\u001b[39m \u001b[38;5;129;01mnot\u001b[39;00m \u001b[38;5;129;01min\u001b[39;00m \u001b[38;5;28mself\u001b[39m\u001b[38;5;241m.\u001b[39mmode:\n\u001b[0;32m--> 392\u001b[0m         \u001b[38;5;28mself\u001b[39m\u001b[38;5;241m.\u001b[39mf \u001b[38;5;241m=\u001b[39m \u001b[38;5;28;43mopen\u001b[39;49m\u001b[43m(\u001b[49m\u001b[38;5;28;43mself\u001b[39;49m\u001b[38;5;241;43m.\u001b[39;49m\u001b[43mpath\u001b[49m\u001b[43m,\u001b[49m\u001b[43m \u001b[49m\u001b[43mmode\u001b[49m\u001b[38;5;241;43m=\u001b[39;49m\u001b[38;5;28;43mself\u001b[39;49m\u001b[38;5;241;43m.\u001b[39;49m\u001b[43mmode\u001b[49m\u001b[43m)\u001b[49m\n\u001b[1;32m    393\u001b[0m         \u001b[38;5;28;01mif\u001b[39;00m \u001b[38;5;28mself\u001b[39m\u001b[38;5;241m.\u001b[39mcompression:\n\u001b[1;32m    394\u001b[0m             compress \u001b[38;5;241m=\u001b[39m compr[\u001b[38;5;28mself\u001b[39m\u001b[38;5;241m.\u001b[39mcompression]\n",
      "\u001b[0;31mFileNotFoundError\u001b[0m: [Errno 2] No such file or directory: '/data/alice/bkuipers/acts/output_examples/particles_generated.root'"
     ]
    }
   ],
   "source": [
    "import numpy as np\n",
    "import matplotlib.pyplot as plt\n",
    "import uproot  # For reading ROOT files\n",
    "\n",
    "# Load true particles and reconstructed tracks from ROOT files\n",
    "true_particles_file = \"particles_generated.root\"\n",
    "reconstructed_tracks_file = \"reconstructed_tracks.root\"\n",
    "\n",
    "# Open ROOT files\n",
    "with uproot.open(true_particles_file) as file:\n",
    "    true_particles = file[\"tree_name\"].arrays([\"energy\"], library=\"np\")  # Replace \"tree_name\" with the actual tree name\n",
    "\n",
    "with uproot.open(reconstructed_tracks_file) as file:\n",
    "    reconstructed_tracks = file[\"tree_name\"].arrays([\"matched_truth_energy\"], library=\"np\")  # Replace \"tree_name\"\n",
    "\n",
    "# Define energy bins\n",
    "energy_bins = np.linspace(1, 10, 10)\n",
    "\n",
    "# Calculate efficiency\n",
    "def calculate_efficiency(true_particles, reconstructed_tracks, energy_bins):\n",
    "    efficiencies = []\n",
    "    for i in range(len(energy_bins) - 1):\n",
    "        energy_min = energy_bins[i]\n",
    "        energy_max = energy_bins[i + 1]\n",
    "        \n",
    "        # True particles in this bin\n",
    "        true_in_bin = (true_particles[\"energy\"] >= energy_min) & (true_particles[\"energy\"] < energy_max)\n",
    "        \n",
    "        # Reconstructed tracks matched to true particles in this bin\n",
    "        matched_in_bin = (reconstructed_tracks[\"matched_truth_energy\"] >= energy_min) & (reconstructed_tracks[\"matched_truth_energy\"] < energy_max)\n",
    "        \n",
    "        # Calculate efficiency\n",
    "        if np.sum(true_in_bin) > 0:\n",
    "            efficiency = np.sum(matched_in_bin) / np.sum(true_in_bin)\n",
    "        else:\n",
    "            efficiency = 0.0\n",
    "        efficiencies.append(efficiency)\n",
    "    return efficiencies\n",
    "\n",
    "efficiencies = calculate_efficiency(true_particles, reconstructed_tracks, energy_bins)\n",
    "\n",
    "# Plot efficiency vs. energy\n",
    "bin_centers = 0.5 * (energy_bins[:-1] + energy_bins[1:])\n",
    "plt.figure(figsize=(8, 6))\n",
    "plt.plot(bin_centers, efficiencies, marker='o', linestyle='-')\n",
    "plt.xlabel(\"Particle Energy (GeV)\")\n",
    "plt.ylabel(\"Efficiency\")\n",
    "plt.title(\"Efficiency vs. Particle Energy\")\n",
    "plt.grid(True)\n",
    "plt.show()"
   ]
  },
  {
   "cell_type": "code",
   "execution_count": null,
   "id": "9177ee0c",
   "metadata": {},
   "outputs": [],
   "source": []
  }
 ],
 "metadata": {
  "kernelspec": {
   "display_name": "ACTSC ROOT Env",
   "language": "python",
   "name": "actsc_root_env"
  },
  "language_info": {
   "codemirror_mode": {
    "name": "ipython",
    "version": 3
   },
   "file_extension": ".py",
   "mimetype": "text/x-python",
   "name": "python",
   "nbconvert_exporter": "python",
   "pygments_lexer": "ipython3",
   "version": "3.12.11"
  }
 },
 "nbformat": 4,
 "nbformat_minor": 5
}
